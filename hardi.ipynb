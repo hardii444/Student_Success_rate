{
  "cells": [
    {
      "cell_type": "code",
      "execution_count": 10,
      "metadata": {
        "id": "mAawTIgc7DmU"
      },
      "outputs": [],
      "source": [
        "import pandas as pd\n",
        "import numpy as np\n",
        "from sklearn.preprocessing import StandardScaler\n",
        "from sklearn.model_selection import train_test_split"
      ]
    },
    {
      "cell_type": "code",
      "execution_count": 11,
      "metadata": {
        "id": "A5MKdhMF7njS"
      },
      "outputs": [],
      "source": [
        "data= pd.read_csv('student4 (1) .csv')"
      ]
    },
    {
      "cell_type": "code",
      "execution_count": 12,
      "metadata": {
        "colab": {
          "base_uri": "https://localhost:8080/",
          "height": 256
        },
        "id": "sabfSSzW7tmD",
        "outputId": "13dd2da5-e9d5-4cad-c900-1818eebfa56f"
      },
      "outputs": [
        {
          "data": {
            "text/html": [
              "<div>\n",
              "<style scoped>\n",
              "    .dataframe tbody tr th:only-of-type {\n",
              "        vertical-align: middle;\n",
              "    }\n",
              "\n",
              "    .dataframe tbody tr th {\n",
              "        vertical-align: top;\n",
              "    }\n",
              "\n",
              "    .dataframe thead th {\n",
              "        text-align: right;\n",
              "    }\n",
              "</style>\n",
              "<table border=\"1\" class=\"dataframe\">\n",
              "  <thead>\n",
              "    <tr style=\"text-align: right;\">\n",
              "      <th></th>\n",
              "      <th>school</th>\n",
              "      <th>sex</th>\n",
              "      <th>age</th>\n",
              "      <th>address</th>\n",
              "      <th>famsize</th>\n",
              "      <th>Pstatus</th>\n",
              "      <th>Medu</th>\n",
              "      <th>Fedu</th>\n",
              "      <th>Mjob</th>\n",
              "      <th>Fjob</th>\n",
              "      <th>...</th>\n",
              "      <th>freetime</th>\n",
              "      <th>goout</th>\n",
              "      <th>Dalc</th>\n",
              "      <th>Walc</th>\n",
              "      <th>health</th>\n",
              "      <th>absences</th>\n",
              "      <th>Langauge</th>\n",
              "      <th>Maths</th>\n",
              "      <th>Science</th>\n",
              "      <th>Percentage</th>\n",
              "    </tr>\n",
              "  </thead>\n",
              "  <tbody>\n",
              "    <tr>\n",
              "      <th>0</th>\n",
              "      <td>GP</td>\n",
              "      <td>F</td>\n",
              "      <td>18</td>\n",
              "      <td>U</td>\n",
              "      <td>GT3</td>\n",
              "      <td>A</td>\n",
              "      <td>4</td>\n",
              "      <td>4</td>\n",
              "      <td>at_home</td>\n",
              "      <td>teacher</td>\n",
              "      <td>...</td>\n",
              "      <td>3</td>\n",
              "      <td>4</td>\n",
              "      <td>1</td>\n",
              "      <td>1</td>\n",
              "      <td>3</td>\n",
              "      <td>6</td>\n",
              "      <td>30</td>\n",
              "      <td>25</td>\n",
              "      <td>30</td>\n",
              "      <td>28.333333</td>\n",
              "    </tr>\n",
              "    <tr>\n",
              "      <th>1</th>\n",
              "      <td>GP</td>\n",
              "      <td>F</td>\n",
              "      <td>17</td>\n",
              "      <td>U</td>\n",
              "      <td>GT3</td>\n",
              "      <td>T</td>\n",
              "      <td>1</td>\n",
              "      <td>1</td>\n",
              "      <td>at_home</td>\n",
              "      <td>other</td>\n",
              "      <td>...</td>\n",
              "      <td>3</td>\n",
              "      <td>3</td>\n",
              "      <td>1</td>\n",
              "      <td>1</td>\n",
              "      <td>3</td>\n",
              "      <td>4</td>\n",
              "      <td>30</td>\n",
              "      <td>25</td>\n",
              "      <td>25</td>\n",
              "      <td>26.666667</td>\n",
              "    </tr>\n",
              "    <tr>\n",
              "      <th>2</th>\n",
              "      <td>GP</td>\n",
              "      <td>F</td>\n",
              "      <td>15</td>\n",
              "      <td>U</td>\n",
              "      <td>LE3</td>\n",
              "      <td>T</td>\n",
              "      <td>1</td>\n",
              "      <td>1</td>\n",
              "      <td>at_home</td>\n",
              "      <td>other</td>\n",
              "      <td>...</td>\n",
              "      <td>3</td>\n",
              "      <td>2</td>\n",
              "      <td>2</td>\n",
              "      <td>3</td>\n",
              "      <td>3</td>\n",
              "      <td>10</td>\n",
              "      <td>50</td>\n",
              "      <td>35</td>\n",
              "      <td>40</td>\n",
              "      <td>41.666667</td>\n",
              "    </tr>\n",
              "    <tr>\n",
              "      <th>3</th>\n",
              "      <td>GP</td>\n",
              "      <td>F</td>\n",
              "      <td>15</td>\n",
              "      <td>U</td>\n",
              "      <td>GT3</td>\n",
              "      <td>T</td>\n",
              "      <td>4</td>\n",
              "      <td>2</td>\n",
              "      <td>health</td>\n",
              "      <td>services</td>\n",
              "      <td>...</td>\n",
              "      <td>2</td>\n",
              "      <td>2</td>\n",
              "      <td>1</td>\n",
              "      <td>1</td>\n",
              "      <td>5</td>\n",
              "      <td>2</td>\n",
              "      <td>75</td>\n",
              "      <td>75</td>\n",
              "      <td>70</td>\n",
              "      <td>73.333333</td>\n",
              "    </tr>\n",
              "    <tr>\n",
              "      <th>4</th>\n",
              "      <td>GP</td>\n",
              "      <td>F</td>\n",
              "      <td>16</td>\n",
              "      <td>U</td>\n",
              "      <td>GT3</td>\n",
              "      <td>T</td>\n",
              "      <td>3</td>\n",
              "      <td>3</td>\n",
              "      <td>other</td>\n",
              "      <td>other</td>\n",
              "      <td>...</td>\n",
              "      <td>3</td>\n",
              "      <td>2</td>\n",
              "      <td>1</td>\n",
              "      <td>2</td>\n",
              "      <td>5</td>\n",
              "      <td>4</td>\n",
              "      <td>50</td>\n",
              "      <td>30</td>\n",
              "      <td>50</td>\n",
              "      <td>43.333333</td>\n",
              "    </tr>\n",
              "  </tbody>\n",
              "</table>\n",
              "<p>5 rows × 34 columns</p>\n",
              "</div>"
            ],
            "text/plain": [
              "  school sex  age address famsize Pstatus  Medu  Fedu     Mjob      Fjob  ...  \\\n",
              "0     GP   F   18       U     GT3       A     4     4  at_home   teacher  ...   \n",
              "1     GP   F   17       U     GT3       T     1     1  at_home     other  ...   \n",
              "2     GP   F   15       U     LE3       T     1     1  at_home     other  ...   \n",
              "3     GP   F   15       U     GT3       T     4     2   health  services  ...   \n",
              "4     GP   F   16       U     GT3       T     3     3    other     other  ...   \n",
              "\n",
              "  freetime goout  Dalc  Walc  health absences Langauge Maths Science  \\\n",
              "0        3     4     1     1       3        6       30    25      30   \n",
              "1        3     3     1     1       3        4       30    25      25   \n",
              "2        3     2     2     3       3       10       50    35      40   \n",
              "3        2     2     1     1       5        2       75    75      70   \n",
              "4        3     2     1     2       5        4       50    30      50   \n",
              "\n",
              "  Percentage  \n",
              "0  28.333333  \n",
              "1  26.666667  \n",
              "2  41.666667  \n",
              "3  73.333333  \n",
              "4  43.333333  \n",
              "\n",
              "[5 rows x 34 columns]"
            ]
          },
          "execution_count": 12,
          "metadata": {},
          "output_type": "execute_result"
        }
      ],
      "source": [
        "data.head()"
      ]
    },
    {
      "cell_type": "code",
      "execution_count": 13,
      "metadata": {
        "id": "wEwV_x_Y713p"
      },
      "outputs": [],
      "source": [
        "categorical_columns = data.select_dtypes(include=['object']).columns\n",
        "\n",
        "# Apply frequency encoding to categorical columns\n",
        "for col in categorical_columns:\n",
        "    freq = data[col].value_counts()\n",
        "    data[col] = data[col].map(freq)\n",
        "\n",
        "# Identify numerical columns (excluding 'Percentage')\n",
        "numerical_columns = data.select_dtypes(include=['int64', 'float64']).columns\n",
        "numerical_columns = numerical_columns.drop('Percentage')\n",
        "\n",
        "# Apply StandardScaler to numerical columns\n",
        "scaler = StandardScaler()\n",
        "data[numerical_columns] = scaler.fit_transform(data[numerical_columns])\n",
        "\n",
        "# Split the data into training and test sets\n",
        "X = data.drop('Percentage', axis=1)\n",
        "y = data['Percentage']\n",
        "X_train, X_test, y_train, y_test = train_test_split(X, y, test_size=0.2, random_state=42)"
      ]
    },
    {
      "cell_type": "code",
      "execution_count": 14,
      "metadata": {
        "colab": {
          "base_uri": "https://localhost:8080/"
        },
        "id": "tyAiC6lT8f5M",
        "outputId": "7e356e98-3f22-42db-842c-1d13d2f10df5"
      },
      "outputs": [
        {
          "name": "stdout",
          "output_type": "stream",
          "text": [
            "Mean Squared Error: 3.7707208161421697\n",
            "R^2 Score: 0.9898115687840313\n"
          ]
        }
      ],
      "source": [
        "#1. Random Forest Regressor\n",
        "from sklearn.ensemble import RandomForestRegressor\n",
        "from sklearn.metrics import mean_squared_error, r2_score\n",
        "\n",
        "# Train the model\n",
        "model = RandomForestRegressor(random_state=42)\n",
        "model.fit(X_train, y_train)\n",
        "\n",
        "# Evaluate the model\n",
        "y_pred = model.predict(X_test)\n",
        "mse = mean_squared_error(y_test, y_pred)\n",
        "r2 = r2_score(y_test, y_pred)\n",
        "print(f'Mean Squared Error: {mse}')\n",
        "print(f'R^2 Score: {r2}')\n"
      ]
    },
    {
      "cell_type": "code",
      "execution_count": 15,
      "metadata": {
        "colab": {
          "base_uri": "https://localhost:8080/"
        },
        "id": "kM3EH8Lj_CdD",
        "outputId": "76631d07-8031-4f23-abf2-a2e349591512"
      },
      "outputs": [
        {
          "name": "stdout",
          "output_type": "stream",
          "text": [
            "Mean Squared Error: 1.5673574022720695\n",
            "R^2 Score: 0.995765023754735\n"
          ]
        }
      ],
      "source": [
        "# 2. Gradient Boosting\n",
        "from sklearn.ensemble import VotingRegressor, RandomForestRegressor, GradientBoostingRegressor\n",
        "from sklearn.metrics import mean_squared_error, r2_score\n",
        "\n",
        "# Create the ensemble model\n",
        "model1 = RandomForestRegressor(random_state=42)\n",
        "model2 = GradientBoostingRegressor(random_state=42)\n",
        "\n",
        "ensemble_model = VotingRegressor(estimators=[('rf', model1), ('gbr', model2)])\n",
        "ensemble_model.fit(X_train, y_train)\n",
        "\n",
        "# Evaluate the model\n",
        "y_pred = ensemble_model.predict(X_test)\n",
        "mse = mean_squared_error(y_test, y_pred)\n",
        "r2 = r2_score(y_test, y_pred)\n",
        "print(f'Mean Squared Error: {mse}')\n",
        "print(f'R^2 Score: {r2}')\n"
      ]
    },
    {
      "cell_type": "code",
      "execution_count": 16,
      "metadata": {
        "colab": {
          "base_uri": "https://localhost:8080/"
        },
        "id": "lm_3k2ke_SdQ",
        "outputId": "0994eeea-8267-427a-befd-f35054546fd1"
      },
      "outputs": [
        {
          "name": "stdout",
          "output_type": "stream",
          "text": [
            "Cross-Validation R^2 Scores: [0.99610809 0.99525913 0.99614152 0.99507461 0.99642628]\n",
            "Average Cross-Validation R^2 Score: 0.9958019225560502\n",
            "Mean Squared Error: 1.5838091582964025\n",
            "R^2 Score: 0.9957205713561595\n"
          ]
        }
      ],
      "source": [
        "from sklearn.ensemble import VotingRegressor, RandomForestRegressor, GradientBoostingRegressor\n",
        "from sklearn.linear_model import Ridge\n",
        "from sklearn.model_selection import cross_val_score, train_test_split\n",
        "from sklearn.metrics import mean_squared_error, r2_score\n",
        "\n",
        "# Split the data again if needed\n",
        "# X_train, X_test, y_train, y_test = train_test_split(X, y, test_size=0.2, random_state=42)\n",
        "\n",
        "# Create simpler models with more regularization\n",
        "model1 = RandomForestRegressor(n_estimators=50, max_depth=5, random_state=42)\n",
        "model2 = GradientBoostingRegressor(n_estimators=50, learning_rate=0.05, max_depth=3, random_state=42)\n",
        "model3 = Ridge(alpha=1.0)\n",
        "\n",
        "# Create the ensemble model with a more diverse set of models\n",
        "ensemble_model = VotingRegressor(estimators=[('rf', model1), ('gbr', model2), ('ridge', model3)])\n",
        "ensemble_model.fit(X_train, y_train)\n",
        "\n",
        "# Cross-validation to check performance consistency\n",
        "cv_scores = cross_val_score(ensemble_model, X_train, y_train, cv=5, scoring='r2')\n",
        "print(f'Cross-Validation R^2 Scores: {cv_scores}')\n",
        "print(f'Average Cross-Validation R^2 Score: {cv_scores.mean()}')\n",
        "\n",
        "# Evaluate the model on the test set\n",
        "y_pred = ensemble_model.predict(X_test)\n",
        "mse = mean_squared_error(y_test, y_pred)\n",
        "r2 = r2_score(y_test, y_pred)\n",
        "print(f'Mean Squared Error: {mse}')\n",
        "print(f'R^2 Score: {r2}')\n"
      ]
    },
    {
      "cell_type": "code",
      "execution_count": 17,
      "metadata": {
        "colab": {
          "base_uri": "https://localhost:8080/",
          "height": 1000
        },
        "id": "bGypOp9kAYMp",
        "outputId": "5145ef34-3b62-4d06-c1f0-ac8b52114876"
      },
      "outputs": [
        {
          "name": "stdout",
          "output_type": "stream",
          "text": [
            "[69.62064285]\n"
          ]
        }
      ],
      "source": [
        "# Install SHAP\n",
        "\n",
        "import pandas as pd\n",
        "import joblib\n",
        "\n",
        "# Initialize the SHAP explainer\n",
        "\n",
        "# Load the original dataset\n",
        "file_path = 'student4 (1) .csv'\n",
        "data = pd.read_csv(file_path)\n",
        "\n",
        "# Identify categorical columns\n",
        "categorical_columns = data.select_dtypes(include=['object']).columns\n",
        "\n",
        "# Create frequency encoding map\n",
        "frequency_encoding_map = {col: data[col].value_counts().to_dict() for col in categorical_columns}\n",
        "\n",
        "# Save the frequency encoding map\n",
        "joblib.dump(frequency_encoding_map, 'frequency_encoding_map.pkl')\n",
        "\n",
        "# Example new data\n",
        "new_data_dict = {\n",
        "    'school': ['GP'],\n",
        "    'sex': ['F'],\n",
        "    'age': [17],\n",
        "    'address': ['U'],\n",
        "    'famsize': ['GT3'],\n",
        "    'Pstatus': ['A'],\n",
        "    'Medu': [4],\n",
        "    'Fedu': [4],\n",
        "    'Mjob': ['health'],\n",
        "    'Fjob': ['services'],\n",
        "    'reason': ['course'],\n",
        "    'guardian': ['mother'],\n",
        "    'traveltime': [1],\n",
        "    'studytime': [2],\n",
        "    'failures': [10],\n",
        "    'schoolsup': ['yes'],\n",
        "    'famsup': ['no'],\n",
        "    'paid': ['no'],\n",
        "    'activities': ['yes'],\n",
        "    'nursery': ['yes'],\n",
        "    'higher': ['yes'],\n",
        "    'internet': ['yes'],\n",
        "    'romantic': ['no'],\n",
        "    'famrel': [4],\n",
        "    'freetime': [3],\n",
        "    'goout': [4],\n",
        "    'Dalc': [1],\n",
        "    'Walc': [1],\n",
        "    'health': [3],\n",
        "    'absences': [44],\n",
        "    'Langauge': [10],\n",
        "    'Maths': [100],\n",
        "    'Science': [100],\n",
        "}\n",
        "\n",
        "# Convert to DataFrame\n",
        "new_data = pd.DataFrame(new_data_dict)\n",
        "\n",
        "# Apply frequency encoding to new data\n",
        "for col in categorical_columns:\n",
        "    new_data[col] = new_data[col].map(frequency_encoding_map.get(col, {})).fillna(0)  # Fill NaN with 0 if there are unseen categories\n",
        "\n",
        "# Identify numerical columns\n",
        "numerical_columns = new_data.select_dtypes(include=['int64', 'float64']).columns\n",
        "\n",
        "# Apply StandardScaler to normalize the numerical features\n",
        "# Assuming scaler is already defined and fitted on training data\n",
        "new_data[numerical_columns] = scaler.transform(new_data[numerical_columns])\n",
        "\n",
        "# Ensure the columns are in the same order as the training data\n",
        "expected_columns = [\n",
        "    'school', 'sex', 'age', 'address', 'famsize', 'Pstatus', 'Medu', 'Fedu',\n",
        "    'Mjob', 'Fjob', 'reason', 'guardian', 'traveltime', 'studytime', 'failures',\n",
        "    'schoolsup', 'famsup', 'paid', 'activities', 'nursery', 'higher', 'internet',\n",
        "    'romantic', 'famrel', 'freetime', 'goout', 'Dalc', 'Walc', 'health',\n",
        "    'absences', 'Langauge', 'Maths', 'Science'\n",
        "]\n",
        "new_data = new_data[expected_columns]\n",
        "\n",
        "# Predict with new data\n",
        "predictions = ensemble_model.predict(new_data)\n",
        "print(predictions)\n"
      ]
    },
    {
      "cell_type": "code",
      "execution_count": 18,
      "metadata": {
        "colab": {
          "base_uri": "https://localhost:8080/"
        },
        "id": "hhgUnZriM1Lm",
        "outputId": "1bba4d46-4e60-4f28-ef66-b050fc95325f"
      },
      "outputs": [
        {
          "name": "stdout",
          "output_type": "stream",
          "text": [
            "The predicted percentage is 69.62%. This suggests excellent performance. Well done! Maintain consistent effort.\n",
            "Predicted Percentage: 69.62064285078041\n"
          ]
        }
      ],
      "source": [
        "# Assuming predictions is the calculated percentage from your model\n",
        "\n",
        "# Ensure predictions is a scalar value (if it's a numpy array, take the first element for simplicity)\n",
        "predicted_percentage = predictions if isinstance(predictions, (int, float)) else predictions[0]\n",
        "\n",
        "output_message = \"\"\n",
        "\n",
        "if predicted_percentage < 10:\n",
        "    output_message = f\"The predicted percentage is {predicted_percentage:.2f}%. This suggests the student's performance needs significant improvement. Consider reviewing the input data or providing additional support and resources.\"\n",
        "elif predicted_percentage >= 10 and predicted_percentage < 25:\n",
        "    output_message = f\"The predicted percentage is {predicted_percentage:.2f}%. This indicates below-average performance. Consider further optimization of study habits and additional support.\"\n",
        "elif predicted_percentage >= 25 and predicted_percentage < 35:\n",
        "    output_message = f\"The predicted percentage is {predicted_percentage:.2f}%. This suggests average performance. Continue to monitor progress and consider areas for improvement.\"\n",
        "elif predicted_percentage >= 35 and predicted_percentage < 45:\n",
        "    output_message = f\"The predicted percentage is {predicted_percentage:.2f}%. This indicates slightly above-average performance. Encourage continued effort and focus.\"\n",
        "elif predicted_percentage >= 45 and predicted_percentage < 50:\n",
        "    output_message = f\"The predicted percentage is {predicted_percentage:.2f}%. This suggests good performance. Maintain focus and seek opportunities for further improvement.\"\n",
        "elif predicted_percentage >= 50 and predicted_percentage < 65:\n",
        "    output_message = f\"The predicted percentage is {predicted_percentage:.2f}%. This indicates very good performance. Continue to excel and explore advanced topics.\"\n",
        "elif predicted_percentage >= 65 and predicted_percentage < 75:\n",
        "    output_message = f\"The predicted percentage is {predicted_percentage:.2f}%. This suggests excellent performance. Well done! Maintain consistent effort.\"\n",
        "elif predicted_percentage >= 75 and predicted_percentage < 85:\n",
        "    output_message = f\"The predicted percentage is {predicted_percentage:.2f}%. This indicates outstanding performance. Keep up the exceptional work.\"\n",
        "elif predicted_percentage >= 85 and predicted_percentage < 90:\n",
        "    output_message = f\"The predicted percentage is {predicted_percentage:.2f}%. This suggests exceptional performance. Congratulations on your achievements!\"\n",
        "elif predicted_percentage >= 90 and predicted_percentage < 95:\n",
        "    output_message = f\"The predicted percentage is {predicted_percentage:.2f}%. This indicates outstanding performance. You are achieving at a very high level.\"\n",
        "else:\n",
        "    output_message = f\"The predicted percentage is {predicted_percentage:.2f}%. This suggests exceptional performance. You are excelling in your studies!\"\n",
        "\n",
        "print(output_message)\n",
        "print(\"Predicted Percentage:\", predicted_percentage)\n"
      ]
    },
    {
      "cell_type": "code",
      "execution_count": 19,
      "metadata": {
        "id": "WJVBU8lPBS3I"
      },
      "outputs": [
        {
          "name": "stdout",
          "output_type": "stream",
          "text": [
            "Requirement already satisfied: joblib in c:\\users\\patel\\appdata\\local\\packages\\pythonsoftwarefoundation.python.3.11_qbz5n2kfra8p0\\localcache\\local-packages\\python311\\site-packages (1.4.2)\n",
            "Note: you may need to restart the kernel to use updated packages.\n"
          ]
        }
      ],
      "source": [
        "%pip install joblib"
      ]
    },
    {
      "cell_type": "code",
      "execution_count": 23,
      "metadata": {},
      "outputs": [
        {
          "data": {
            "text/plain": [
              "['scaler.pkl']"
            ]
          },
          "execution_count": 23,
          "metadata": {},
          "output_type": "execute_result"
        }
      ],
      "source": [
        "import joblib\n",
        "joblib.dump(ensemble_model, 'ensemble_model.pkl')\n",
        "joblib.dump(scaler, 'scaler.pkl')"
      ]
    }
  ],
  "metadata": {
    "accelerator": "GPU",
    "colab": {
      "gpuType": "T4",
      "provenance": []
    },
    "kernelspec": {
      "display_name": "Python 3",
      "name": "python3"
    },
    "language_info": {
      "codemirror_mode": {
        "name": "ipython",
        "version": 3
      },
      "file_extension": ".py",
      "mimetype": "text/x-python",
      "name": "python",
      "nbconvert_exporter": "python",
      "pygments_lexer": "ipython3",
      "version": "3.11.9"
    }
  },
  "nbformat": 4,
  "nbformat_minor": 0
}
